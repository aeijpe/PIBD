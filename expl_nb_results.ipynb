{
 "cells": [
  {
   "cell_type": "code",
   "execution_count": 1,
   "metadata": {},
   "outputs": [],
   "source": [
    "import pandas as pd\n",
    "import csv\n",
    "import numpy as np\n",
    "import os"
   ]
  },
  {
   "cell_type": "markdown",
   "metadata": {},
   "source": [
    "# Results RNA clean"
   ]
  },
  {
   "cell_type": "code",
   "execution_count": 2,
   "metadata": {},
   "outputs": [],
   "source": [
    "rna_data = 'rna_clean'\n",
    "type_data = 'tcga_brca'\n",
    "results_dir = os.path.join(os.path.join('results', rna_data), type_data)\n",
    "# MMP settings, PIBD settings\n",
    "exp = ['tcga_brca_b32_dss_survival_days_wsiDim_256_epochs_20_omics_pathways_pathT_combine_s1_noval', 'tcga_brca_b32_dss_survival_days_wsiDim_256_epochs_30_omics_pathways_pathT_combine_s1_noval', 'tcga_brca_b32_dss_survival_days_wsiDim_256_epochs_30_omics_pathways_pathT_combine_s1_lr0.0005_optadam']\n"
   ]
  },
  {
   "cell_type": "code",
   "execution_count": 3,
   "metadata": {},
   "outputs": [
    {
     "name": "stdout",
     "output_type": "stream",
     "text": [
      "tcga_brca_b32_dss_survival_days_wsiDim_256_epochs_20_omics_pathways_pathT_combine_s1_noval\n",
      "0.6258883118844198 0.06060704949120312\n",
      "tcga_brca_b32_dss_survival_days_wsiDim_256_epochs_30_omics_pathways_pathT_combine_s1_noval\n",
      "0.6179901384288771 0.052470441413181815\n",
      "tcga_brca_b32_dss_survival_days_wsiDim_256_epochs_30_omics_pathways_pathT_combine_s1_lr0.0005_optadam\n",
      "0.7096806000716349 0.03551694589908506\n"
     ]
    }
   ],
   "source": [
    "for item in exp:\n",
    "    print(item)\n",
    "    exp_dir_res = os.path.join(results_dir, item)\n",
    "    res_data = pd.read_csv(os.path.join(exp_dir_res, 'summary.csv'), engine='python')\n",
    "    val_dice = np.mean(np.array(res_data['val_cindex']))\n",
    "    std_dice = np.std(np.array(res_data['val_cindex']))\n",
    "    print(val_dice, std_dice)"
   ]
  },
  {
   "cell_type": "markdown",
   "metadata": {},
   "source": [
    "# Results RNA Pan Clean"
   ]
  },
  {
   "cell_type": "code",
   "execution_count": 4,
   "metadata": {},
   "outputs": [],
   "source": [
    "rna_data = 'rna_clean_pan'\n",
    "type_data = 'tcga_brca'\n",
    "results_dir = os.path.join(os.path.join('results', rna_data), type_data)\n",
    "# MMP settings, PIBD settings\n",
    "exp = ['tcga_brca_b32_dss_survival_days_wsiDim_256_epochs_20_omics_pathways_pathT_combine_s1_lr0.0001_optadamW_noval', 'tcga_brca_b32_dss_survival_days_wsiDim_256_epochs_30_omics_pathways_pathT_combine_s1_lr0.0005_optadam_noval', 'tcga_brca_b32_dss_survival_days_wsiDim_256_epochs_30_omics_pathways_pathT_combine_s1_lr0.0005_optadam']"
   ]
  },
  {
   "cell_type": "code",
   "execution_count": 5,
   "metadata": {},
   "outputs": [
    {
     "name": "stdout",
     "output_type": "stream",
     "text": [
      "tcga_brca_b32_dss_survival_days_wsiDim_256_epochs_20_omics_pathways_pathT_combine_s1_lr0.0001_optadamW_noval\n"
     ]
    },
    {
     "name": "stdout",
     "output_type": "stream",
     "text": [
      "0.6369507271718013 0.11870545605935857\n",
      "tcga_brca_b32_dss_survival_days_wsiDim_256_epochs_30_omics_pathways_pathT_combine_s1_lr0.0005_optadam_noval\n",
      "0.630733005487096 0.08587578652488724\n",
      "tcga_brca_b32_dss_survival_days_wsiDim_256_epochs_30_omics_pathways_pathT_combine_s1_lr0.0005_optadam\n",
      "0.6993982678277945 0.0802903755276547\n"
     ]
    }
   ],
   "source": [
    "for item in exp:\n",
    "    print(item)\n",
    "    exp_dir_res = os.path.join(results_dir, item)\n",
    "    res_data = pd.read_csv(os.path.join(exp_dir_res, 'summary.csv'), engine='python')\n",
    "    val_dice = np.mean(np.array(res_data['val_cindex']))\n",
    "    std_dice = np.std(np.array(res_data['val_cindex']))\n",
    "    print(val_dice, std_dice)"
   ]
  },
  {
   "cell_type": "code",
   "execution_count": 12,
   "metadata": {},
   "outputs": [
    {
     "name": "stdout",
     "output_type": "stream",
     "text": [
      "Index(['case_id', 'slide_id', 'submitter_id', 'tumor_type', 'project_id',\n",
      "       'site_of_resection_or_biopsy', 'sex', 'OncotreeCode',\n",
      "       'cancer_type_detailed', 'tissue_source_site', 'is_code_valid', 'mpp',\n",
      "       'op', 'level0_mag', 'OncoTreeSiteCode',\n",
      "       'age_at_initial_pathologic_diagnosis', 'race',\n",
      "       'ajcc_pathologic_tumor_stage', 'clinical_stage', 'histological_type',\n",
      "       'histological_grade', 'initial_pathologic_dx_year', 'menopause_status',\n",
      "       'birth_days_to', 'vital_status', 'tumor_status', 'last_contact_days_to',\n",
      "       'death_days_to', 'cause_of_death', 'new_tumor_event_type',\n",
      "       'new_tumor_event_site', 'new_tumor_event_site_other',\n",
      "       'new_tumor_event_dx_days_to', 'treatment_outcome_first_course',\n",
      "       'margin_status', 'residual_tumor', 'os_censorship', 'os_survival_days',\n",
      "       'dss_censorship', 'dss_survival_days', 'dfi_censorship',\n",
      "       'dfi_survival_days', 'pfi_censorship', 'pfi_survival_days', 'redaction',\n",
      "       'pfi_v1_censorship', 'pfi_v1_survival_days', 'pfi_v2_censorship',\n",
      "       'pfi_v2_survival_days', 'pfs_censorship', 'pfs_survival_days',\n",
      "       'dss_cr_censorship', 'dss_cr_survival_days', 'dfi_cr_censorship',\n",
      "       'dfi_cr_survival_days', 'pfi_cr_censorship', 'pfi_cr_survival_days',\n",
      "       'pfi_v1_cr_censorship', 'pfi_v1_cr_survival_days',\n",
      "       'pfi_v2_cr_censorship', 'pfi_v2_cr_survival_days'],\n",
      "      dtype='object')\n"
     ]
    }
   ],
   "source": [
    "print(clinical_data.columns)"
   ]
  },
  {
   "cell_type": "code",
   "execution_count": 5,
   "metadata": {},
   "outputs": [
    {
     "name": "stdout",
     "output_type": "stream",
     "text": [
      "          case_id                                           slide_id  \\\n",
      "0    TCGA-3C-AALI  TCGA-3C-AALI-01Z-00-DX2.CF4496E0-AB52-4F3E-BDF...   \n",
      "1    TCGA-3C-AALI  TCGA-3C-AALI-01Z-00-DX1.F6E9A5DF-D8FB-45CF-B4B...   \n",
      "2    TCGA-3C-AALJ  TCGA-3C-AALJ-01Z-00-DX2.62DFE56B-B84C-40F9-962...   \n",
      "3    TCGA-3C-AALJ  TCGA-3C-AALJ-01Z-00-DX1.777C0957-255A-42F0-9EE...   \n",
      "4    TCGA-3C-AALK  TCGA-3C-AALK-01Z-00-DX1.4E6EB156-BB19-410F-878...   \n",
      "..            ...                                                ...   \n",
      "710  TCGA-S3-AA12  TCGA-S3-AA12-01Z-00-DX2.4F0A4F18-41C7-4497-A7B...   \n",
      "711  TCGA-S3-AA14  TCGA-S3-AA14-01Z-00-DX1.000A865F-19E6-4018-935...   \n",
      "712  TCGA-S3-AA15  TCGA-S3-AA15-01Z-00-DX2.915A4F90-25CB-4535-99C...   \n",
      "713  TCGA-S3-AA15  TCGA-S3-AA15-01Z-00-DX1.A2456A4A-E6E8-4429-8F0...   \n",
      "714  TCGA-S3-AA17  TCGA-S3-AA17-01Z-00-DX1.9B7DC02E-ECB2-4403-A89...   \n",
      "\n",
      "     submitter_id tumor_type project_id site_of_resection_or_biopsy sex  \\\n",
      "0    TCGA-3C-AALI    Primary  TCGA-BRCA                 Breast, NOS   F   \n",
      "1    TCGA-3C-AALI    Primary  TCGA-BRCA                 Breast, NOS   F   \n",
      "2    TCGA-3C-AALJ    Primary  TCGA-BRCA                 Breast, NOS   F   \n",
      "3    TCGA-3C-AALJ    Primary  TCGA-BRCA                 Breast, NOS   F   \n",
      "4    TCGA-3C-AALK    Primary  TCGA-BRCA                 Breast, NOS   F   \n",
      "..            ...        ...        ...                         ...  ..   \n",
      "710  TCGA-S3-AA12    Primary  TCGA-BRCA                 Breast, NOS   F   \n",
      "711  TCGA-S3-AA14    Primary  TCGA-BRCA                 Breast, NOS   F   \n",
      "712  TCGA-S3-AA15    Primary  TCGA-BRCA                 Breast, NOS   F   \n",
      "713  TCGA-S3-AA15    Primary  TCGA-BRCA                 Breast, NOS   F   \n",
      "714  TCGA-S3-AA17    Primary  TCGA-BRCA                 Breast, NOS   F   \n",
      "\n",
      "    OncotreeCode              cancer_type_detailed tissue_source_site  ...  \\\n",
      "0            IDC  Breast Invasive Ductal Carcinoma                 3C  ...   \n",
      "1            IDC  Breast Invasive Ductal Carcinoma                 3C  ...   \n",
      "2            IDC  Breast Invasive Ductal Carcinoma                 3C  ...   \n",
      "3            IDC  Breast Invasive Ductal Carcinoma                 3C  ...   \n",
      "4            IDC  Breast Invasive Ductal Carcinoma                 3C  ...   \n",
      "..           ...                               ...                ...  ...   \n",
      "710          IDC  Breast Invasive Ductal Carcinoma                 S3  ...   \n",
      "711          IDC  Breast Invasive Ductal Carcinoma                 S3  ...   \n",
      "712          IDC  Breast Invasive Ductal Carcinoma                 S3  ...   \n",
      "713          IDC  Breast Invasive Ductal Carcinoma                 S3  ...   \n",
      "714          IDC  Breast Invasive Ductal Carcinoma                 S3  ...   \n",
      "\n",
      "     dss_cr_censorship  dss_cr_survival_days  dfi_cr_censorship  \\\n",
      "0                  1.0                4005.0                1.0   \n",
      "1                  1.0                4005.0                1.0   \n",
      "2                  1.0                1474.0                1.0   \n",
      "3                  1.0                1474.0                1.0   \n",
      "4                  1.0                1448.0                NaN   \n",
      "..                 ...                   ...                ...   \n",
      "710                1.0                 574.0                1.0   \n",
      "711                1.0                 529.0                1.0   \n",
      "712                1.0                 525.0                1.0   \n",
      "713                1.0                 525.0                1.0   \n",
      "714                1.0                 424.0                1.0   \n",
      "\n",
      "     dfi_cr_survival_days pfi_cr_censorship  pfi_cr_survival_days  \\\n",
      "0                  4005.0               1.0                4005.0   \n",
      "1                  4005.0               1.0                4005.0   \n",
      "2                  1474.0               1.0                1474.0   \n",
      "3                  1474.0               1.0                1474.0   \n",
      "4                     NaN               1.0                1448.0   \n",
      "..                    ...               ...                   ...   \n",
      "710                 574.0               1.0                 574.0   \n",
      "711                 529.0               1.0                 529.0   \n",
      "712                 525.0               1.0                 525.0   \n",
      "713                 525.0               1.0                 525.0   \n",
      "714                 424.0               1.0                 424.0   \n",
      "\n",
      "    pfi_v1_cr_censorship pfi_v1_cr_survival_days pfi_v2_cr_censorship  \\\n",
      "0                    1.0                  4005.0                  1.0   \n",
      "1                    1.0                  4005.0                  1.0   \n",
      "2                    1.0                  1474.0                  1.0   \n",
      "3                    1.0                  1474.0                  1.0   \n",
      "4                    1.0                  1448.0                  1.0   \n",
      "..                   ...                     ...                  ...   \n",
      "710                  1.0                   574.0                  1.0   \n",
      "711                  1.0                   529.0                  1.0   \n",
      "712                  1.0                   525.0                  1.0   \n",
      "713                  1.0                   525.0                  1.0   \n",
      "714                  1.0                   424.0                  1.0   \n",
      "\n",
      "    pfi_v2_cr_survival_days  \n",
      "0                    4005.0  \n",
      "1                    4005.0  \n",
      "2                    1474.0  \n",
      "3                    1474.0  \n",
      "4                    1448.0  \n",
      "..                      ...  \n",
      "710                   574.0  \n",
      "711                   529.0  \n",
      "712                   525.0  \n",
      "713                   525.0  \n",
      "714                   424.0  \n",
      "\n",
      "[715 rows x 61 columns]\n"
     ]
    }
   ],
   "source": [
    "print(clinical_data)"
   ]
  },
  {
   "cell_type": "code",
   "execution_count": 11,
   "metadata": {},
   "outputs": [
    {
     "name": "stdout",
     "output_type": "stream",
     "text": [
      "613    912.0\n",
      "Name: os_survival_days, dtype: float64\n",
      "613    0.0\n",
      "Name: os_censorship, dtype: float64\n"
     ]
    }
   ],
   "source": [
    "case_ids = \"TCGA-A2-A3XU\"\n",
    "info = clinical_data[clinical_data['case_id'] == case_ids][\"os_survival_days\"]\n",
    "print(info)\n",
    "info2 = clinical_data[clinical_data['case_id'] == case_ids][\"os_censorship\"]\n",
    "print(info2)"
   ]
  },
  {
   "cell_type": "code",
   "execution_count": null,
   "metadata": {},
   "outputs": [],
   "source": [
    "info2 = clinical_data[clinical_data['case_id'] == \"TCGA-A2-A0EM\"][\"os_censorship\"]\n",
    "print(info2)"
   ]
  },
  {
   "cell_type": "markdown",
   "metadata": {},
   "source": [
    "# Get results"
   ]
  },
  {
   "cell_type": "code",
   "execution_count": null,
   "metadata": {},
   "outputs": [],
   "source": []
  }
 ],
 "metadata": {
  "kernelspec": {
   "display_name": "mmp",
   "language": "python",
   "name": "python3"
  },
  "language_info": {
   "codemirror_mode": {
    "name": "ipython",
    "version": 3
   },
   "file_extension": ".py",
   "mimetype": "text/x-python",
   "name": "python",
   "nbconvert_exporter": "python",
   "pygments_lexer": "ipython3",
   "version": "3.9.19"
  }
 },
 "nbformat": 4,
 "nbformat_minor": 2
}
